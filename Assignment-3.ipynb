{
 "cells": [
  {
   "cell_type": "code",
   "execution_count": 1,
   "id": "e45a4e72-0f70-4786-a4fd-7382d7ed6f52",
   "metadata": {},
   "outputs": [
    {
     "name": "stdout",
     "output_type": "stream",
     "text": [
      "1\n",
      "2\n",
      "3\n",
      "4\n",
      "5\n",
      "6\n",
      "7\n",
      "8\n",
      "9\n",
      "10\n"
     ]
    }
   ],
   "source": [
    "for i in range(1,11):\n",
    "    print(i)"
   ]
  },
  {
   "cell_type": "code",
   "execution_count": 3,
   "id": "f5da5c50-8a10-4a38-96d3-15b8f1773a9f",
   "metadata": {},
   "outputs": [
    {
     "name": "stdout",
     "output_type": "stream",
     "text": [
      "Sum: 15\n"
     ]
    }
   ],
   "source": [
    "list1=[1,2,3,4,5]\n",
    "total=0\n",
    "for i in list1:\n",
    "    total+=i\n",
    "print(\"Sum:\",total)"
   ]
  },
  {
   "cell_type": "code",
   "execution_count": 8,
   "id": "c90923aa-c410-49a8-b169-723307da8cd6",
   "metadata": {},
   "outputs": [
    {
     "name": "stdout",
     "output_type": "stream",
     "text": [
      "hsuyaa"
     ]
    }
   ],
   "source": [
    "str1=\"aayush\"\n",
    "for i in str1[::-1]:\n",
    "    print(str(i),end='')"
   ]
  },
  {
   "cell_type": "code",
   "execution_count": 9,
   "id": "f1f1ce5a-a2d6-48e2-befc-6ddd1b7d374d",
   "metadata": {},
   "outputs": [
    {
     "name": "stdin",
     "output_type": "stream",
     "text": [
      "Enter value of N: 5\n"
     ]
    },
    {
     "name": "stdout",
     "output_type": "stream",
     "text": [
      "Factorial: 120\n"
     ]
    }
   ],
   "source": [
    "n=int(input(\"Enter value of N:\"))\n",
    "fact=1\n",
    "for i in range(1,n+1):\n",
    "    fact*=i\n",
    "print(\"Factorial:\",fact)"
   ]
  },
  {
   "cell_type": "code",
   "execution_count": 11,
   "id": "00bae062-d85c-42bf-b3c4-6e5c06821cd1",
   "metadata": {},
   "outputs": [
    {
     "name": "stdin",
     "output_type": "stream",
     "text": [
      "Enter value of N: 6\n"
     ]
    },
    {
     "name": "stdout",
     "output_type": "stream",
     "text": [
      "6 x 1 = 6\n",
      "6 x 2 = 12\n",
      "6 x 3 = 18\n",
      "6 x 4 = 24\n",
      "6 x 5 = 30\n",
      "6 x 6 = 36\n",
      "6 x 7 = 42\n",
      "6 x 8 = 48\n",
      "6 x 9 = 54\n",
      "6 x 10 = 60\n"
     ]
    }
   ],
   "source": [
    "n=int(input(\"Enter value of N:\"))\n",
    "mult=1\n",
    "for i in range(1,11):\n",
    "    mult= n*i\n",
    "    print(n,\"x\",i,\"=\",mult)"
   ]
  },
  {
   "cell_type": "code",
   "execution_count": 13,
   "id": "67614d70-f226-4b20-a042-f9fae15ded1a",
   "metadata": {},
   "outputs": [
    {
     "name": "stdout",
     "output_type": "stream",
     "text": [
      "Even-Count: 4 , Odd-Count 5\n"
     ]
    }
   ],
   "source": [
    "lis1=[1,2,3,4,5,6,7,8,9]\n",
    "even_count=0\n",
    "odd_count=0\n",
    "for i in lis1:\n",
    "    if(i%2==0):\n",
    "        even_count+=1\n",
    "    else:\n",
    "        odd_count+=1\n",
    "print(\"Even-Count:\",even_count,\", Odd-Count\",odd_count)"
   ]
  },
  {
   "cell_type": "code",
   "execution_count": 16,
   "id": "03aa697c-ff1c-46f9-9f73-368d9acc413c",
   "metadata": {},
   "outputs": [
    {
     "name": "stdout",
     "output_type": "stream",
     "text": [
      "1 4 9 16 25 "
     ]
    }
   ],
   "source": [
    "for i in range(1,6):\n",
    "    print(i*i,end=' ')"
   ]
  },
  {
   "cell_type": "code",
   "execution_count": 17,
   "id": "7818c4ae-0684-409e-9207-dbb635249a7c",
   "metadata": {},
   "outputs": [
    {
     "name": "stdout",
     "output_type": "stream",
     "text": [
      "Length of pwskills = 8\n"
     ]
    }
   ],
   "source": [
    "str1=\"pwskills\"\n",
    "length=0\n",
    "for i in str1:\n",
    "    length+=1\n",
    "print(\"Length of\",str1,\"=\",length)"
   ]
  },
  {
   "cell_type": "code",
   "execution_count": 21,
   "id": "e55ccfcb-bccf-417d-9408-bae70a7be848",
   "metadata": {},
   "outputs": [
    {
     "name": "stdout",
     "output_type": "stream",
     "text": [
      "Average: 3.0\n"
     ]
    }
   ],
   "source": [
    "list1=[1,2,3,4,5]\n",
    "avg=0\n",
    "tot=0\n",
    "length=0\n",
    "for i in list1:\n",
    "    length+=1\n",
    "    tot+=i\n",
    "avg= tot/length\n",
    "print(\"Average:\",avg)"
   ]
  },
  {
   "cell_type": "code",
   "execution_count": 22,
   "id": "f8ffbaea-f79d-4389-9527-4b1a8db1550b",
   "metadata": {},
   "outputs": [
    {
     "name": "stdin",
     "output_type": "stream",
     "text": [
      "Enter value of N: 6\n"
     ]
    },
    {
     "name": "stdout",
     "output_type": "stream",
     "text": [
      "Fibonacci Series: [0, 1, 1, 2, 3, 5]\n"
     ]
    }
   ],
   "source": [
    "n=int(input(\"Enter value of N:\"))\n",
    "fib1=[0,1]\n",
    "for i in range(2,n):\n",
    "    next_fib= fib1[-1] + fib1[-2]\n",
    "    fib1.append(next_fib)\n",
    "print(\"Fibonacci Series:\",fib1)"
   ]
  },
  {
   "cell_type": "code",
   "execution_count": 25,
   "id": "8726f242-6ee9-49d4-aed3-9d4ade36b36f",
   "metadata": {},
   "outputs": [
    {
     "name": "stdout",
     "output_type": "stream",
     "text": [
      "The List contains Duplicates\n"
     ]
    }
   ],
   "source": [
    "list1=[1,2,3,4,4,5,6,6]\n",
    "has_duplicates=False\n",
    "seen=set()\n",
    "for i in list1:\n",
    "    if i in seen:\n",
    "        has_duplicates=True\n",
    "        break\n",
    "    seen.add(i)\n",
    "if has_duplicates:\n",
    "    print(\"The List contains Duplicates\")\n",
    "else:\n",
    "    print(\"The List does not contains Duplicates\")"
   ]
  },
  {
   "cell_type": "code",
   "execution_count": 26,
   "id": "08a4b416-7db8-42a1-97da-979b6a9b21df",
   "metadata": {},
   "outputs": [
    {
     "name": "stdin",
     "output_type": "stream",
     "text": [
      "Enter the starting number of the range:  2\n",
      "Enter the ending number of the range:  19\n"
     ]
    },
    {
     "name": "stdout",
     "output_type": "stream",
     "text": [
      "Prime numbers in the range [2, 19]:\n",
      "2\n",
      "3\n",
      "5\n",
      "7\n",
      "11\n",
      "13\n",
      "17\n",
      "19\n"
     ]
    }
   ],
   "source": [
    "start = int(input(\"Enter the starting number of the range: \"))\n",
    "end = int(input(\"Enter the ending number of the range: \"))\n",
    "print(f\"Prime numbers in the range [{start}, {end}]:\")\n",
    "for number in range(start, end + 1):\n",
    "    if number > 1:\n",
    "        is_prime = True\n",
    "        for i in range(2, int(number**0.5) + 1):\n",
    "            if number % i == 0:\n",
    "                is_prime = False\n",
    "                break\n",
    "        if is_prime:\n",
    "            print(number)"
   ]
  },
  {
   "cell_type": "code",
   "execution_count": 28,
   "id": "8cd3ddfa-04ff-49ff-9892-beb510fb0fb5",
   "metadata": {},
   "outputs": [
    {
     "name": "stdin",
     "output_type": "stream",
     "text": [
      "Enter a String: aayush\n"
     ]
    },
    {
     "name": "stdout",
     "output_type": "stream",
     "text": [
      "Vowel count is: 3\n"
     ]
    }
   ],
   "source": [
    "str1=str(input(\"Enter a String:\"))\n",
    "vowels='aeiou'\n",
    "count_vowel=0\n",
    "for i in str1:\n",
    "    if i in vowels:\n",
    "        count_vowel+=1\n",
    "print(\"Vowel count is:\",count_vowel)"
   ]
  },
  {
   "cell_type": "code",
   "execution_count": 34,
   "id": "715054d8-f91c-49d8-b2c3-ebb58284699a",
   "metadata": {},
   "outputs": [
    {
     "name": "stdout",
     "output_type": "stream",
     "text": [
      "6\n"
     ]
    }
   ],
   "source": [
    "lis1=[5,2,6,4,1,3]\n",
    "max1=0\n",
    "for i in lis1:\n",
    "    if i>max1:\n",
    "        max1= i\n",
    "print(max1)"
   ]
  },
  {
   "cell_type": "code",
   "execution_count": 1,
   "id": "ef57f35f-93a7-478a-a0fc-b3c78f5bf366",
   "metadata": {},
   "outputs": [
    {
     "name": "stdin",
     "output_type": "stream",
     "text": [
      "Enter element you want to be deleted: 2\n"
     ]
    },
    {
     "name": "stdout",
     "output_type": "stream",
     "text": [
      "[5, 6, 4, 1, 3]\n"
     ]
    }
   ],
   "source": [
    "lst1=[5,2,6,4,1,3,2,2]\n",
    "n=int(input(\"Enter element you want to be deleted:\"))\n",
    "lst2=[]\n",
    "for i in lst1:\n",
    "    if i!=n:\n",
    "        lst2.append(i)\n",
    "print(lst2)"
   ]
  },
  {
   "cell_type": "code",
   "execution_count": 2,
   "id": "544ea261-f00d-4250-880e-19333787c8bb",
   "metadata": {},
   "outputs": [
    {
     "name": "stdout",
     "output_type": "stream",
     "text": [
      "Multiplication table of 1\n",
      "1 x 1 = 1\n",
      "1 x 2 = 2\n",
      "1 x 3 = 3\n",
      "1 x 4 = 4\n",
      "1 x 5 = 5\n",
      "1 x 6 = 6\n",
      "1 x 7 = 7\n",
      "1 x 8 = 8\n",
      "1 x 9 = 9\n",
      "1 x 10 = 10\n",
      "\n",
      "Multiplication table of 2\n",
      "2 x 1 = 2\n",
      "2 x 2 = 4\n",
      "2 x 3 = 6\n",
      "2 x 4 = 8\n",
      "2 x 5 = 10\n",
      "2 x 6 = 12\n",
      "2 x 7 = 14\n",
      "2 x 8 = 16\n",
      "2 x 9 = 18\n",
      "2 x 10 = 20\n",
      "\n",
      "Multiplication table of 3\n",
      "3 x 1 = 3\n",
      "3 x 2 = 6\n",
      "3 x 3 = 9\n",
      "3 x 4 = 12\n",
      "3 x 5 = 15\n",
      "3 x 6 = 18\n",
      "3 x 7 = 21\n",
      "3 x 8 = 24\n",
      "3 x 9 = 27\n",
      "3 x 10 = 30\n",
      "\n",
      "Multiplication table of 4\n",
      "4 x 1 = 4\n",
      "4 x 2 = 8\n",
      "4 x 3 = 12\n",
      "4 x 4 = 16\n",
      "4 x 5 = 20\n",
      "4 x 6 = 24\n",
      "4 x 7 = 28\n",
      "4 x 8 = 32\n",
      "4 x 9 = 36\n",
      "4 x 10 = 40\n",
      "\n",
      "Multiplication table of 5\n",
      "5 x 1 = 5\n",
      "5 x 2 = 10\n",
      "5 x 3 = 15\n",
      "5 x 4 = 20\n",
      "5 x 5 = 25\n",
      "5 x 6 = 30\n",
      "5 x 7 = 35\n",
      "5 x 8 = 40\n",
      "5 x 9 = 45\n",
      "5 x 10 = 50\n",
      "\n"
     ]
    }
   ],
   "source": [
    "for i in range(1,6):\n",
    "    print(\"Multiplication table of\",i)\n",
    "    for j in range(1,11):\n",
    "        result=i*j\n",
    "        print(i,\"x\",j,\"=\",result)\n",
    "    print()"
   ]
  },
  {
   "cell_type": "code",
   "execution_count": 4,
   "id": "cb8adbaf-81dc-42f5-972c-3ac009f17287",
   "metadata": {},
   "outputs": [
    {
     "name": "stdout",
     "output_type": "stream",
     "text": [
      "[37.77777777777778, 38.333333333333336, 38.88888888888889, 39.44444444444444]\n"
     ]
    }
   ],
   "source": [
    "lst=[100,101,102,103]\n",
    "new_lst=[]\n",
    "for i in lst:\n",
    "    result= ((i-32)*(5/9))\n",
    "    new_lst.append(result)\n",
    "print(new_lst)"
   ]
  },
  {
   "cell_type": "code",
   "execution_count": 5,
   "id": "b4b0d2e7-46dd-43c5-93e7-6f5f4e9fef4a",
   "metadata": {},
   "outputs": [
    {
     "name": "stdout",
     "output_type": "stream",
     "text": [
      "Common elements 3\n",
      "Common elements 4\n"
     ]
    }
   ],
   "source": [
    "ls=[1,2,3,4]\n",
    "ls1=[3,4,5,6]\n",
    "for i in ls:\n",
    "    if i in ls1:\n",
    "        print(\"Common elements\",i)"
   ]
  },
  {
   "cell_type": "code",
   "execution_count": 14,
   "id": "bd8fed52-35d3-4f3e-be44-6d12457b9d78",
   "metadata": {},
   "outputs": [
    {
     "name": "stdout",
     "output_type": "stream",
     "text": [
      "* \n",
      "* * \n",
      "* * * \n",
      "* * * * \n",
      "* * * * * \n"
     ]
    }
   ],
   "source": [
    "for i in range(1,6):\n",
    "    for j in range(1,i+1):\n",
    "        print(\"*\",end=' ')\n",
    "    print()"
   ]
  },
  {
   "cell_type": "code",
   "execution_count": 17,
   "id": "8c8ea3d4-4723-4e03-a03c-9c6fdfc49ff9",
   "metadata": {},
   "outputs": [
    {
     "name": "stdin",
     "output_type": "stream",
     "text": [
      "Enter 1st Number: 80\n",
      "Enter 2nd Number: 8\n"
     ]
    },
    {
     "name": "stdout",
     "output_type": "stream",
     "text": [
      "Greatest Common Divisor: 8\n"
     ]
    }
   ],
   "source": [
    "num1=int(input(\"Enter 1st Number:\"))\n",
    "num2=int(input(\"Enter 2nd Number:\"))\n",
    "smaller= min(num1,num2)\n",
    "gcd=1\n",
    "for i in range(1, smaller+1):\n",
    "    if num1%i==0 and num2%i==0:\n",
    "        gcd=i\n",
    "print(f\"Greatest Common Divisor: {gcd}\")"
   ]
  },
  {
   "cell_type": "code",
   "execution_count": 19,
   "id": "d61ea89a-f956-4bb6-8302-36537515002f",
   "metadata": {},
   "outputs": [
    {
     "name": "stdout",
     "output_type": "stream",
     "text": [
      "Sum: 15\n"
     ]
    }
   ],
   "source": [
    "list1 = [1, 2, 3, 4, 5]\n",
    "total = sum([i for i in list1])\n",
    "print(\"Sum:\", total)"
   ]
  },
  {
   "cell_type": "code",
   "execution_count": 21,
   "id": "708b3e46-2614-4226-bbc8-e3882cf97741",
   "metadata": {},
   "outputs": [
    {
     "name": "stdin",
     "output_type": "stream",
     "text": [
      "Enter a number:  9\n"
     ]
    },
    {
     "name": "stdout",
     "output_type": "stream",
     "text": [
      "The prime factors of 9 are: [3]\n"
     ]
    }
   ],
   "source": [
    "number = int(input(\"Enter a number: \"))\n",
    "factors = [i for i in range(2, number + 1) if all(i % j != 0 for j in range(2, int(i**0.5) + 1)) and number % i == 0]\n",
    "print(f\"The prime factors of {number} are: {factors}\")"
   ]
  },
  {
   "cell_type": "code",
   "execution_count": 25,
   "id": "9565ab51-9bba-4b5e-9ec3-dd14458babb9",
   "metadata": {},
   "outputs": [
    {
     "name": "stdout",
     "output_type": "stream",
     "text": [
      "New List: [1, 2, 3, 4, 5, 6, 7, 8]\n"
     ]
    }
   ],
   "source": [
    "ls1=[1,2,3,3,4,5,5,5,6,7,7,8]\n",
    "new_ls1=list(set(ls1))\n",
    "print(\"New List:\",new_ls1)"
   ]
  },
  {
   "cell_type": "code",
   "execution_count": 27,
   "id": "c5420b14-9e32-407e-8f26-2898d7f4907f",
   "metadata": {},
   "outputs": [
    {
     "name": "stdin",
     "output_type": "stream",
     "text": [
      "Enter the limit: 100\n"
     ]
    },
    {
     "name": "stdout",
     "output_type": "stream",
     "text": [
      "Palindromic numbers up to 100: [0, 1, 2, 3, 4, 5, 6, 7, 8, 9, 11, 22, 33, 44, 55, 66, 77, 88, 99]\n"
     ]
    }
   ],
   "source": [
    "limit = int(input(\"Enter the limit:\"))\n",
    "palindromic_numbers = [i for i in range(limit + 1) if str(i) == str(i)[::-1]]\n",
    "print(f\"Palindromic numbers up to {limit}: {palindromic_numbers}\")"
   ]
  },
  {
   "cell_type": "code",
   "execution_count": 29,
   "id": "4e6e12b5-9e5f-4c13-81b6-db9c08957f3f",
   "metadata": {},
   "outputs": [
    {
     "name": "stdout",
     "output_type": "stream",
     "text": [
      "Nested List: [1, 2, [3, 4], 5, [6, 7], 8, [9, 10]]\n",
      "Flattened List: [1, 2, 3, 4, 5, 6, 7, 8, 9, 10]\n"
     ]
    }
   ],
   "source": [
    "nested_list = [1, 2, [3, 4], 5, [6, 7], 8, [9, 10]]\n",
    "flattened_list = [item for sublist in nested_list for item in (sublist if isinstance(sublist, list) else [sublist])]\n",
    "print(\"Nested List:\", nested_list)\n",
    "print(\"Flattened List:\", flattened_list)"
   ]
  },
  {
   "cell_type": "code",
   "execution_count": 33,
   "id": "facb4703-4f4e-4aa0-8e41-98749514e007",
   "metadata": {},
   "outputs": [
    {
     "name": "stdout",
     "output_type": "stream",
     "text": [
      "Even Count: 30\n",
      "Odd Count: 25\n"
     ]
    }
   ],
   "source": [
    "ls1=[1,2,3,4,5,6,7,8,9,10]\n",
    "even_Count=sum([i for i in ls1 if i%2==0])\n",
    "odd_Count=sum([i for i in ls1 if i%2!=0])\n",
    "print(\"Even Count:\",even_Count)\n",
    "print(\"Odd Count:\",odd_Count)"
   ]
  },
  {
   "cell_type": "code",
   "execution_count": 35,
   "id": "f7151095-3660-424f-8ea5-40bc17a50cd6",
   "metadata": {},
   "outputs": [
    {
     "name": "stdout",
     "output_type": "stream",
     "text": [
      "[1, 9, 25, 49, 81]\n"
     ]
    }
   ],
   "source": [
    "Sq_odd= [i*i for i in range(1,10) if i%2!=0]\n",
    "print(Sq_odd)"
   ]
  },
  {
   "cell_type": "code",
   "execution_count": 36,
   "id": "50eb003b-783c-466e-b5ab-34ed2431992e",
   "metadata": {},
   "outputs": [
    {
     "name": "stdout",
     "output_type": "stream",
     "text": [
      "Combined Dictionary: {'name': 'John', 'age': 25, 'city': 'New York'}\n"
     ]
    }
   ],
   "source": [
    "keys = [\"name\", \"age\", \"city\"]\n",
    "values = [\"John\", 25, \"New York\"]\n",
    "combined_dict = {keys[i]: values[i] for i in range(min(len(keys), len(values)))}\n",
    "print(\"Combined Dictionary:\", combined_dict)"
   ]
  },
  {
   "cell_type": "code",
   "execution_count": 37,
   "id": "9956c8ae-2003-48b5-a441-b70223d3a84f",
   "metadata": {},
   "outputs": [
    {
     "name": "stdin",
     "output_type": "stream",
     "text": [
      "Enter a string:  aayush is a good boy\n"
     ]
    },
    {
     "name": "stdout",
     "output_type": "stream",
     "text": [
      "Vowels in the string: ['a', 'a', 'u', 'i', 'a', 'o', 'o', 'o']\n"
     ]
    }
   ],
   "source": [
    "input_string = input(\"Enter a string: \")\n",
    "vowels = [char for char in input_string if char.lower() in 'aeiouAEIOU']\n",
    "print(\"Vowels in the string:\", vowels)"
   ]
  },
  {
   "cell_type": "code",
   "execution_count": 38,
   "id": "9862f0c4-90bc-4cab-a9ce-6ee5f907845a",
   "metadata": {},
   "outputs": [
    {
     "name": "stdout",
     "output_type": "stream",
     "text": [
      "Original List: ['abc123', '456def', '789', 'xyz']\n",
      "Numeric Strings: ['123', '456', '789', '']\n"
     ]
    }
   ],
   "source": [
    "string_list = [\"abc123\", \"456def\", \"789\", \"xyz\"]\n",
    "numeric_strings = [''.join(char for char in s if char.isdigit()) for s in string_list]\n",
    "print(\"Original List:\", string_list)\n",
    "print(\"Numeric Strings:\", numeric_strings)"
   ]
  },
  {
   "cell_type": "code",
   "execution_count": 1,
   "id": "9d545983-1ac1-4128-8ab8-68fab2bc6934",
   "metadata": {},
   "outputs": [
    {
     "name": "stdout",
     "output_type": "stream",
     "text": [
      "Prime numbers up to 50: [2, 3, 5, 7, 11, 13, 17, 19, 23, 29, 31, 37, 41, 43, 47]\n"
     ]
    }
   ],
   "source": [
    "limit = 50\n",
    "is_prime = [True] * (limit + 1)\n",
    "is_prime[0] = is_prime[1] = False\n",
    "for i in range(2, int(limit**0.5) + 1):\n",
    "    if is_prime[i]:\n",
    "        is_prime[i*i:limit+1:i] = [False] * len(range(i*i, limit+1, i))\n",
    "primes = [num for num in range(2, limit + 1) if is_prime[num]]\n",
    "print(f\"Prime numbers up to {limit}: {primes}\")"
   ]
  },
  {
   "cell_type": "code",
   "execution_count": 2,
   "id": "5691b0d5-ec11-41fc-8a96-1326ea063f28",
   "metadata": {},
   "outputs": [
    {
     "name": "stdout",
     "output_type": "stream",
     "text": [
      "Pythagorean triplets up to 30: [(3, 4, 5), (6, 8, 10), (5, 12, 13), (9, 12, 15), (8, 15, 17), (12, 16, 20), (15, 20, 25), (7, 24, 25), (10, 24, 26), (20, 21, 29), (18, 24, 30)]\n"
     ]
    }
   ],
   "source": [
    "limit = 30\n",
    "pythagorean_triplets = [(a, b, c) for c in range(1, limit + 1)\n",
    "                        for b in range(1, c)\n",
    "                        for a in range(1, b)\n",
    "                        if a**2 + b**2 == c**2]\n",
    "print(f\"Pythagorean triplets up to {limit}: {pythagorean_triplets}\")"
   ]
  },
  {
   "cell_type": "code",
   "execution_count": 3,
   "id": "b83f5cbe-f00e-4e9e-8ac5-662d95937092",
   "metadata": {},
   "outputs": [
    {
     "name": "stdout",
     "output_type": "stream",
     "text": [
      "All possible combinations of [1, 2, 3] and ['a', 'b', 'c']: [(1, 'a'), (1, 'b'), (1, 'c'), (2, 'a'), (2, 'b'), (2, 'c'), (3, 'a'), (3, 'b'), (3, 'c')]\n"
     ]
    }
   ],
   "source": [
    "list1 = [1, 2, 3]\n",
    "list2 = ['a', 'b', 'c']\n",
    "combinations = [(x, y) for x in list1 for y in list2]\n",
    "print(f\"All possible combinations of {list1} and {list2}: {combinations}\")"
   ]
  },
  {
   "cell_type": "code",
   "execution_count": 4,
   "id": "38d3ddae-02ca-45c1-8a60-d6367a4f289d",
   "metadata": {},
   "outputs": [
    {
     "name": "stdout",
     "output_type": "stream",
     "text": [
      "List: [5, 2, 8, 3, 5, 2, 8, 4, 6, 1, 7, 3, 9]\n",
      "Mean: 4.846153846153846\n",
      "Median: 5\n",
      "Mode: 5\n"
     ]
    }
   ],
   "source": [
    "from statistics import mean, median, mode\n",
    "numbers = [5, 2, 8, 3, 5, 2, 8, 4, 6, 1, 7, 3, 9]\n",
    "list_mean = mean(numbers)\n",
    "list_median = median(numbers)\n",
    "list_mode = mode(numbers)\n",
    "print(f\"List: {numbers}\")\n",
    "print(f\"Mean: {list_mean}\")\n",
    "print(f\"Median: {list_median}\")\n",
    "print(f\"Mode: {list_mode}\")"
   ]
  },
  {
   "cell_type": "code",
   "execution_count": 8,
   "id": "a05978f7-9885-4370-88d0-bac9f3bbbb05",
   "metadata": {},
   "outputs": [
    {
     "name": "stdout",
     "output_type": "stream",
     "text": [
      "[1]\n",
      "[1, 1]\n",
      "[1, 2, 1]\n",
      "[1, 3, 3, 1]\n",
      "[1, 4, 6, 4, 1]\n"
     ]
    }
   ],
   "source": [
    "num_rows = 5\n",
    "pascals_triangle = [[] for _ in range(num_rows)]\n",
    "for i in range(num_rows):\n",
    "    pascals_triangle[i] = [1] if i == 0 else [1] + [pascals_triangle[i-1][j-1] + pascals_triangle[i-1][j] for j in range(1, i)] + [1]\n",
    "for row in pascals_triangle:\n",
    "    print(row)"
   ]
  },
  {
   "cell_type": "code",
   "execution_count": 12,
   "id": "478ce3a5-2518-46ce-b233-06edf4df7ad0",
   "metadata": {},
   "outputs": [
    {
     "name": "stdout",
     "output_type": "stream",
     "text": [
      "Factorial of 1: 1, Sum of digits: 1\n",
      "Factorial of 2: 2, Sum of digits: 2\n",
      "Factorial of 3: 6, Sum of digits: 6\n",
      "Factorial of 4: 24, Sum of digits: 6\n",
      "Factorial of 5: 120, Sum of digits: 3\n"
     ]
    }
   ],
   "source": [
    "import math\n",
    "\n",
    "factorials = [math.factorial(num) for num in range(1, 6)]\n",
    "digit_sums = [sum(int(digit) for digit in str(factorial)) for factorial in factorials]\n",
    "\n",
    "for num, factorial, digit_sum in zip(range(1, 6), factorials, digit_sums):\n",
    "    print(f\"Factorial of {num}: {factorial}, Sum of digits: {digit_sum}\")\n"
   ]
  },
  {
   "cell_type": "code",
   "execution_count": 13,
   "id": "2824f389-0506-48eb-a561-474de735247b",
   "metadata": {},
   "outputs": [
    {
     "name": "stdout",
     "output_type": "stream",
     "text": [
      "The longest word in the sentence is: sentence\n"
     ]
    }
   ],
   "source": [
    "sentence = \"This is a sample sentence to find the longest word.\"\n",
    "words = sentence.split()\n",
    "longest_word = max(words, key=lambda word: len(word))\n",
    "print(f\"The longest word in the sentence is: {longest_word}\")"
   ]
  },
  {
   "cell_type": "code",
   "execution_count": 15,
   "id": "bbc31423-fd5e-42f6-abc4-1098393da49a",
   "metadata": {},
   "outputs": [
    {
     "name": "stdout",
     "output_type": "stream",
     "text": [
      "Original list: ['hello', 'world', 'python', 'programmiing', 'example', 'vowels']\n",
      "Filtered list with more than three vowels: ['programmiing']\n"
     ]
    }
   ],
   "source": [
    "word_list = [\"hello\", \"world\", \"python\", \"programmiing\", \"example\", \"vowels\"]\n",
    "filtered_words = [word for word in word_list if sum(1 for char in word if char.lower() in 'aeiou') > 3]\n",
    "print(f\"Original list: {word_list}\")\n",
    "print(f\"Filtered list with more than three vowels: {filtered_words}\")"
   ]
  },
  {
   "cell_type": "code",
   "execution_count": 19,
   "id": "9fe2644a-252c-46e3-a2e6-6ad23a3b0b52",
   "metadata": {},
   "outputs": [
    {
     "name": "stdout",
     "output_type": "stream",
     "text": [
      "Sum: 500500\n"
     ]
    }
   ],
   "source": [
    "dig_sum= sum([i for i in range(1,1001)])\n",
    "print(\"Sum:\",dig_sum)"
   ]
  },
  {
   "cell_type": "code",
   "execution_count": 20,
   "id": "a8e36a25-1ddb-4083-9dd8-1fae599a6e9c",
   "metadata": {},
   "outputs": [
    {
     "name": "stdout",
     "output_type": "stream",
     "text": [
      "Prime palindromic numbers: [11, 101, 131, 151, 181, 191, 313, 353, 373, 383, 727, 757, 787, 797, 919, 929]\n"
     ]
    }
   ],
   "source": [
    "prime_palindromes = [num for num in range(10, 1000) if all(num % i != 0 for i in range(2, int(num**0.5) + 1)) and str(num) == str(num)[::-1]]\n",
    "print(f\"Prime palindromic numbers: {prime_palindromes}\")"
   ]
  }
 ],
 "metadata": {
  "kernelspec": {
   "display_name": "Python 3 (ipykernel)",
   "language": "python",
   "name": "python3"
  },
  "language_info": {
   "codemirror_mode": {
    "name": "ipython",
    "version": 3
   },
   "file_extension": ".py",
   "mimetype": "text/x-python",
   "name": "python",
   "nbconvert_exporter": "python",
   "pygments_lexer": "ipython3",
   "version": "3.10.8"
  }
 },
 "nbformat": 4,
 "nbformat_minor": 5
}
